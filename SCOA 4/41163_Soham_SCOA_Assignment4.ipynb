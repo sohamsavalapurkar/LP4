{
 "cells": [
  {
   "cell_type": "code",
   "execution_count": 1,
   "metadata": {},
   "outputs": [],
   "source": [
    "import numpy as np"
   ]
  },
  {
   "cell_type": "code",
   "execution_count": 2,
   "metadata": {},
   "outputs": [],
   "source": [
    "def g(inp):\n",
    "    return np.sum(inp)"
   ]
  },
  {
   "cell_type": "code",
   "execution_count": 3,
   "metadata": {},
   "outputs": [],
   "source": [
    "def logical_and(inp):\n",
    "    b = inp.shape[0]\n",
    "    agg = g(inp)\n",
    "    if agg == b:\n",
    "        return np.array([1])\n",
    "    return np.array([0])"
   ]
  },
  {
   "cell_type": "code",
   "execution_count": 4,
   "metadata": {},
   "outputs": [],
   "source": [
    "def logical_or(inp):\n",
    "    agg = g(inp)\n",
    "    if agg > 0:\n",
    "        return np.array([1])\n",
    "    return np.array([0])"
   ]
  },
  {
   "cell_type": "code",
   "execution_count": 5,
   "metadata": {},
   "outputs": [],
   "source": [
    "def logical_not(inp):\n",
    "    agg = inp[0]\n",
    "    if agg == 0:\n",
    "        return np.array([1])\n",
    "    return np.array([0])"
   ]
  },
  {
   "cell_type": "code",
   "execution_count": 6,
   "metadata": {},
   "outputs": [],
   "source": [
    "def logical_nor(inp):\n",
    "    agg = g(inp)\n",
    "    if agg == 0:\n",
    "        return np.array([1])\n",
    "    return np.array([0])"
   ]
  },
  {
   "cell_type": "code",
   "execution_count": 7,
   "metadata": {},
   "outputs": [],
   "source": [
    "def get_num_features(operation=None):\n",
    "    if operation == 'NOT':\n",
    "        return 1\n",
    "    features = input(\"Enter number of features : \")\n",
    "    features = int(features)\n",
    "    \n",
    "    if features > 1:\n",
    "        return features\n",
    "    else:\n",
    "        raise ValueError(\"Invalid value for number of features\")"
   ]
  },
  {
   "cell_type": "code",
   "execution_count": 8,
   "metadata": {},
   "outputs": [],
   "source": [
    "def main():\n",
    "    func_map = {\n",
    "        'AND': logical_and,\n",
    "        'OR': logical_or,\n",
    "        'NOT': logical_not,\n",
    "        'NOR': logical_nor\n",
    "    }\n",
    "    while True:\n",
    "        try:\n",
    "            # Accept operation to perform\n",
    "            operation = input(f\"Select operation to be performed\\n{', '.join(list(func_map.keys()))}\\nEnter choice : \")\n",
    "            operation = operation.upper()\n",
    "\n",
    "            # Verify entered value\n",
    "            if operation not in list(func_map.keys()):\n",
    "                raise ValueError(\"Invalid value for operation.\\nPermitted values are\\n\" + ', '.join(list(func_map.keys())) + \"\\ngot \" + operation)\n",
    "\n",
    "            # Get number of features\n",
    "            features = get_num_features(operation)\n",
    "\n",
    "            # Generate input array\n",
    "            inp = np.random.randint(2, size = (features))\n",
    "            print(\"Input : \" + str(inp))\n",
    "\n",
    "            # Use network to get results\n",
    "            to_call = func_map.get(operation)\n",
    "            results = to_call(inp)\n",
    "            print(\"Result : \" + str(results))\n",
    "\n",
    "            if input('Do you want to continue? [Y/N] : ').upper() == 'N':\n",
    "                print('Bye')\n",
    "                break\n",
    "            print('\\n\\n')\n",
    "\n",
    "        except Exception as e:\n",
    "            print(e)"
   ]
  },
  {
   "cell_type": "code",
   "execution_count": 9,
   "metadata": {},
   "outputs": [
    {
     "name": "stdout",
     "output_type": "stream",
     "text": [
      "Select operation to be performed\n",
      "AND, OR, NOT, NOR\n",
      "Enter choice : and\n",
      "Enter number of features : 3\n",
      "Input : [1 0 0]\n",
      "Result : [0]\n",
      "Do you want to continue? [Y/N] : y\n",
      "\n",
      "\n",
      "\n",
      "Select operation to be performed\n",
      "AND, OR, NOT, NOR\n",
      "Enter choice : or\n",
      "Enter number of features : 3\n",
      "Input : [1 0 0]\n",
      "Result : [1]\n",
      "Do you want to continue? [Y/N] : y\n",
      "\n",
      "\n",
      "\n",
      "Select operation to be performed\n",
      "AND, OR, NOT, NOR\n",
      "Enter choice : not\n",
      "Input : [1]\n",
      "Result : [0]\n",
      "Do you want to continue? [Y/N] : y\n",
      "\n",
      "\n",
      "\n",
      "Select operation to be performed\n",
      "AND, OR, NOT, NOR\n",
      "Enter choice : nor\n",
      "Enter number of features : 2\n",
      "Input : [0 0]\n",
      "Result : [1]\n",
      "Do you want to continue? [Y/N] : n\n",
      "Bye\n"
     ]
    }
   ],
   "source": [
    "main()"
   ]
  },
  {
   "cell_type": "code",
   "execution_count": null,
   "metadata": {},
   "outputs": [],
   "source": []
  }
 ],
 "metadata": {
  "kernelspec": {
   "display_name": "Python 3.8.5 64-bit",
   "language": "python",
   "name": "python38564bitde44c35ad6564caa90652f69e7743f92"
  },
  "language_info": {
   "codemirror_mode": {
    "name": "ipython",
    "version": 3
   },
   "file_extension": ".py",
   "mimetype": "text/x-python",
   "name": "python",
   "nbconvert_exporter": "python",
   "pygments_lexer": "ipython3",
   "version": "3.8.5"
  },
  "metadata": {
   "interpreter": {
    "hash": "6c0788bf466bc8cb1fbb18760131c7f895927f5b29c4330188bf7cf65ee6f4e5"
   }
  }
 },
 "nbformat": 4,
 "nbformat_minor": 2
}
