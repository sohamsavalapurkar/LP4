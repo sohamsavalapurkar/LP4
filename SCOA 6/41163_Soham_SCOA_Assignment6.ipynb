{
 "cells": [
  {
   "cell_type": "code",
   "execution_count": 1,
   "metadata": {},
   "outputs": [],
   "source": [
    "import numpy as np"
   ]
  },
  {
   "cell_type": "code",
   "execution_count": 2,
   "metadata": {},
   "outputs": [],
   "source": [
    "def define_structure(X, Y):\n",
    "    input_unit = X.shape[0] \n",
    "    hidden_unit = 2 \n",
    "    output_unit = Y.shape[0]\n",
    "    #print(output_unit)\n",
    "    return (input_unit, hidden_unit, output_unit)"
   ]
  },
  {
   "cell_type": "code",
   "execution_count": 3,
   "metadata": {},
   "outputs": [],
   "source": [
    "def parameters_initialization(input_unit, hidden_unit, output_unit):\n",
    "    W1 = np.ones([hidden_unit, input_unit])\n",
    "    b1 = np.zeros((hidden_unit, 1))\n",
    "    W2 = np.ones([output_unit, hidden_unit])\n",
    "    b2 = np.zeros((output_unit, 1))\n",
    "    parameters = {\"W1\": W1,\n",
    "                  \"b1\": b1,\n",
    "                  \"W2\": W2,\n",
    "                  \"b2\": b2}\n",
    "    print('W1' + str(W1))\n",
    "    \n",
    "    return parameters"
   ]
  },
  {
   "cell_type": "code",
   "execution_count": 4,
   "metadata": {},
   "outputs": [],
   "source": [
    "def forward_propagation(X, parameters):\n",
    "    W1 = parameters['W1']\n",
    "    b1 = parameters['b1']\n",
    "    W2 = parameters['W2']\n",
    "    b2 = parameters['b2']\n",
    "    \n",
    "    Z1 = np.dot(W1, X) + b1\n",
    "    A1 = Z1\n",
    "    #print(\"Z1\")\n",
    "    #print()\n",
    "    Z2 = np.dot(W2, A1) + b2\n",
    "    A2 = 1/(1 + np.exp(-Z2))\n",
    "    cache = {\"Z1\": Z1,\"A1\": A1,\"Z2\": Z2,\"A2\": A2}\n",
    "    #print(\"Z2\")\n",
    "    #print(np.dot(W1,A1))\n",
    "    return A2, cache"
   ]
  },
  {
   "cell_type": "code",
   "execution_count": 5,
   "metadata": {},
   "outputs": [],
   "source": [
    "def cross_entropy_cost(A2, Y, parameters):\n",
    "    # number of training example\n",
    "    m = Y.shape[1] \n",
    "    #print(m)\n",
    "    # Compute the cross-entropy cost\n",
    "    #print(A2)\n",
    "    logprobs = np.multiply(np.log(A2), Y) + np.multiply((1-Y), np.log(1 - A2))\n",
    "    #print(logprobs)\n",
    "    cost = - np.sum(logprobs) / m\n",
    "    cost = float(np.squeeze(cost))\n",
    "                                    \n",
    "    return cost"
   ]
  },
  {
   "cell_type": "code",
   "execution_count": 6,
   "metadata": {},
   "outputs": [],
   "source": [
    "def backward_propagation(parameters, cache, X, Y):\n",
    "    #number of training example\n",
    "    m = X.shape[1]\n",
    "    \n",
    "    W1 = parameters['W1']\n",
    "    W2 = parameters['W2']\n",
    "    A1 = cache['A1']\n",
    "    A2 = cache['A2']\n",
    "   \n",
    "    dZ2 = A2-Y\n",
    "    dW2 = (1/m) * np.dot(dZ2, A1.T)\n",
    "    db2 = (1/m) * np.sum(dZ2, axis=1, keepdims=True)\n",
    "    dZ1 = np.multiply(np.dot(W2.T, dZ2), 1 - np.power(A1, 2))\n",
    "    dW1 = (1/m) * np.dot(dZ1, X.T) \n",
    "    db1 = (1/m)*np.sum(dZ1, axis=1, keepdims=True)\n",
    "    \n",
    "    grads = {\"dW1\": dW1, \"db1\": db1, \"dW2\": dW2,\"db2\": db2}\n",
    "    \n",
    "    return grads"
   ]
  },
  {
   "cell_type": "code",
   "execution_count": 7,
   "metadata": {},
   "outputs": [],
   "source": [
    "def gradient_descent(parameters, grads, learning_rate = 0.001):\n",
    "    W1 = parameters['W1']\n",
    "    b1 = parameters['b1']\n",
    "    W2 = parameters['W2']\n",
    "    b2 = parameters['b2']\n",
    "   \n",
    "    dW1 = grads['dW1']\n",
    "    db1 = grads['db1']\n",
    "    dW2 = grads['dW2']\n",
    "    db2 = grads['db2']\n",
    "    W1 = W1 - learning_rate * dW1\n",
    "    b1 = b1 - learning_rate * db1\n",
    "    W2 = W2 - learning_rate * dW2\n",
    "    b2 = b2 - learning_rate * db2\n",
    "    \n",
    "    parameters = {\"W1\": W1, \"b1\": b1,\"W2\": W2,\"b2\": b2}\n",
    "    \n",
    "    return parameters"
   ]
  },
  {
   "cell_type": "code",
   "execution_count": 8,
   "metadata": {},
   "outputs": [
    {
     "name": "stdout",
     "output_type": "stream",
     "text": [
      "W1[[1. 1.]\n",
      " [1. 1.]]\n",
      "Cost after iteration 0: 0.126928\n",
      "Cost after iteration 5: 0.126715\n",
      "Cost after iteration 10: 0.126503\n",
      "Cost after iteration 15: 0.126291\n",
      "Cost after iteration 20: 0.126081\n",
      "Cost after iteration 25: 0.125870\n",
      "Cost after iteration 30: 0.125661\n",
      "Cost after iteration 35: 0.125452\n",
      "Cost after iteration 40: 0.125244\n",
      "Cost after iteration 45: 0.125036\n",
      "Cost after iteration 50: 0.124829\n",
      "Cost after iteration 55: 0.124623\n",
      "Cost after iteration 60: 0.124417\n",
      "Cost after iteration 65: 0.124212\n",
      "Cost after iteration 70: 0.124008\n",
      "Cost after iteration 75: 0.123804\n",
      "Cost after iteration 80: 0.123601\n",
      "Cost after iteration 85: 0.123399\n",
      "Cost after iteration 90: 0.123197\n",
      "Cost after iteration 95: 0.122996\n",
      "{'W1': array([[1., 1.],\n",
      "       [1., 1.]]), 'b1': array([[0.],\n",
      "       [0.]]), 'W2': array([[1.01173796, 1.01173796]]), 'b2': array([[0.01173796]])}\n"
     ]
    }
   ],
   "source": [
    "def neural_network_model(X, Y, hidden_unit, num_iterations = 1000):\n",
    "    np.random.seed(3)\n",
    "    input_unit = define_structure(X, Y)[0]\n",
    "    output_unit = define_structure(X, Y)[2]\n",
    "    \n",
    "    parameters = parameters_initialization(input_unit, hidden_unit, output_unit)\n",
    "    #print(parameters)\n",
    "    W1 = parameters['W1']\n",
    "    b1 = parameters['b1']\n",
    "    W2 = parameters['W2']\n",
    "    b2 = parameters['b2']\n",
    "    \n",
    "    for i in range(num_iterations):\n",
    "        A2, cache = forward_propagation(X, parameters)\n",
    "        cost = cross_entropy_cost(A2, Y, parameters)\n",
    "        grads = backward_propagation(parameters, cache, X, Y)\n",
    "        parameters = gradient_descent(parameters, grads)\n",
    "        if i % 5 == 0:\n",
    "            print (\"Cost after iteration %i: %f\" %(i, cost))\n",
    "    return parameters\n",
    "X = np.array([[1],[0]])\n",
    "#print(X)\n",
    "#print(X)\n",
    "Y = np.array([1])\n",
    "Y = Y.reshape(1, Y.shape[0])\n",
    "#Y = Y.T\n",
    "#print(Y.shape)\n",
    "\n",
    "parameters = neural_network_model(X, Y, 2, num_iterations=100)\n",
    "print(parameters)"
   ]
  },
  {
   "cell_type": "code",
   "execution_count": null,
   "metadata": {},
   "outputs": [],
   "source": []
  }
 ],
 "metadata": {
  "kernelspec": {
   "display_name": "Python 3.8.5 64-bit",
   "language": "python",
   "name": "python38564bitde44c35ad6564caa90652f69e7743f92"
  },
  "language_info": {
   "codemirror_mode": {
    "name": "ipython",
    "version": 3
   },
   "file_extension": ".py",
   "mimetype": "text/x-python",
   "name": "python",
   "nbconvert_exporter": "python",
   "pygments_lexer": "ipython3",
   "version": "3.8.5"
  }
 },
 "nbformat": 4,
 "nbformat_minor": 4
}
