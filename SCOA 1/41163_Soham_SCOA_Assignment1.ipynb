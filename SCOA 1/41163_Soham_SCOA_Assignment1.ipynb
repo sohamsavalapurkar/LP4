{
 "cells": [
  {
   "cell_type": "code",
   "execution_count": 1,
   "metadata": {},
   "outputs": [],
   "source": [
    "import random\n",
    "import numpy as np"
   ]
  },
  {
   "cell_type": "code",
   "execution_count": 2,
   "metadata": {},
   "outputs": [],
   "source": [
    "def Union(fuzzy_Set_A, fuzzy_Set_B):\n",
    "    Y = dict()\n",
    "    for keyA, keyB in zip(fuzzy_Set_A, fuzzy_Set_B): \n",
    "        valA = fuzzy_Set_A[keyA] \n",
    "        valB = fuzzy_Set_B[keyB] \n",
    "\n",
    "        if valA > valB: \n",
    "            Y[keyA] = valA \n",
    "        else: \n",
    "            Y[keyB] = valB \n",
    "\n",
    "    print('Union of fuzzy sets A and B is :\\n', Y) "
   ]
  },
  {
   "cell_type": "code",
   "execution_count": 3,
   "metadata": {},
   "outputs": [],
   "source": [
    "def Intersection(fuzzy_Set_A, fuzzy_Set_B):\n",
    "    Y = dict()\n",
    "    for keyA, keyB in zip(fuzzy_Set_A, fuzzy_Set_B): \n",
    "        valA = fuzzy_Set_A[keyA] \n",
    "        valB = fuzzy_Set_B[keyB] \n",
    "        if valA < valB: \n",
    "            Y[keyA] = valA \n",
    "        else: \n",
    "            Y[keyB] = valB \n",
    "\n",
    "    print('Intersection of fuzzy sets A and B is :\\n', Y) "
   ]
  },
  {
   "cell_type": "code",
   "execution_count": 4,
   "metadata": {},
   "outputs": [],
   "source": [
    "def Compliment(fuzzy_Set_A, fuzzy_Set_B):\n",
    "    Y = dict()\n",
    "    for keyA in fuzzy_Set_A.keys(): \n",
    "        Y[keyA] = round(1 - fuzzy_Set_A[keyA],2) \n",
    "    print('Compliment of fuzzy set A is :\\n', Y) \n",
    "\n",
    "    Y.clear()\n",
    "    for keyB in fuzzy_Set_B.keys(): \n",
    "        Y[keyB] = round(1 - fuzzy_Set_B[keyB],2) \n",
    "    print('\\n\\nCompliment of fuzzy set B is :\\n', Y) "
   ]
  },
  {
   "cell_type": "code",
   "execution_count": 5,
   "metadata": {},
   "outputs": [],
   "source": [
    "def Difference(fuzzy_Set_A, fuzzy_Set_B):\n",
    "    Y = dict()\n",
    "    for keyA, keyB in zip(fuzzy_Set_A, fuzzy_Set_B): \n",
    "        valA = fuzzy_Set_A[keyA] \n",
    "        valB = fuzzy_Set_B[keyB] \n",
    "        valB = round((1 - valB),2)\n",
    "        if valA < valB: \n",
    "            Y[keyA] = valA \n",
    "        else: \n",
    "            Y[keyB] = valB\n",
    "\n",
    "    print('Difference of fuzzy sets A and B is :\\n', Y) \n",
    "\n",
    "    Y.clear()\n",
    "    for keyA, keyB in zip(fuzzy_Set_A, fuzzy_Set_B): \n",
    "        valA = fuzzy_Set_A[keyA] \n",
    "        valB = fuzzy_Set_B[keyB] \n",
    "        valA = round((1 - valA),2)\n",
    "        if valB < valA: \n",
    "            Y[keyB] = valB \n",
    "        else: \n",
    "            Y[keyA] = valA\n",
    "\n",
    "    print('Difference of fuzzy sets B and A is :\\n', Y) "
   ]
  },
  {
   "cell_type": "code",
   "execution_count": 6,
   "metadata": {},
   "outputs": [],
   "source": [
    "def cartesianProduct(fuzzy_Set_A, fuzzy_Set_B, fuzzy_Set_C):\n",
    "    AXB = np.zeros((sizeA,sizeB))\n",
    "    BXC = np.zeros((sizeB,sizeC))\n",
    "    i=0\n",
    "    for valA in fuzzy_Set_A.values():\n",
    "        j = 0\n",
    "        for valB in fuzzy_Set_B.values():\n",
    "            if valA < valB:\n",
    "                AXB[i][j] = valA\n",
    "            else:\n",
    "                AXB[i][j] = valB\n",
    "            j = j + 1\n",
    "        i = i + 1\n",
    "    R = AXB\n",
    "    print('Relation R ( A x B) is : \\n', R)\n",
    "\n",
    "    i = 0\n",
    "    for valB in fuzzy_Set_B.values():\n",
    "        j = 0\n",
    "        for valC in fuzzy_Set_C.values():\n",
    "            if valB < valC:\n",
    "                BXC[i][j] = valB\n",
    "            else:\n",
    "                BXC[i][j] = valC\n",
    "            j = j + 1\n",
    "        i = i + 1\n",
    "    S = BXC\n",
    "    print('Relation S ( B x C) is : \\n', S)\n",
    "    return R,S"
   ]
  },
  {
   "cell_type": "code",
   "execution_count": 7,
   "metadata": {},
   "outputs": [],
   "source": [
    "def max_min_composition(sizeA, sizeB, sizeC, R, S):\n",
    "    ROS = np.zeros((sizeA,sizeC))\n",
    "    for i in range(0,sizeA):\n",
    "        for j in range(0,sizeC):\n",
    "            element = []\n",
    "            for k in range(0,sizeB):\n",
    "                if R[i][k] < S[k][j]:\n",
    "                    element.append(R[i][k])\n",
    "                else:\n",
    "                    element.append(S[k][j])\n",
    "            #print(element)\n",
    "            #print()\n",
    "            ROS[i][j] = max(element)\n",
    "\n",
    "    print('Max-min composition ROS is :\\n', ROS)"
   ]
  },
  {
   "cell_type": "code",
   "execution_count": 8,
   "metadata": {},
   "outputs": [
    {
     "name": "stdout",
     "output_type": "stream",
     "text": [
      "Enter size of Fuzzy Set A : 4\n",
      "Enter size of Fuzzy Set B : 4\n",
      "Enter size of Fuzzy Set C : 4\n"
     ]
    },
    {
     "data": {
      "text/plain": [
       "({'x0': 0.24, 'x1': 0.4, 'x2': 0.51, 'x3': 0.3},\n",
       " {'y0': 1.0, 'y1': 0.04, 'y2': 0.46, 'y3': 0.85},\n",
       " {'z0': 0.39, 'z1': 0.39, 'z2': 0.36, 'z3': 0.71})"
      ]
     },
     "execution_count": 8,
     "metadata": {},
     "output_type": "execute_result"
    }
   ],
   "source": [
    "fuzzy_Set_A = dict() \n",
    "fuzzy_Set_B = dict() \n",
    "fuzzy_Set_C = dict() \n",
    "\n",
    "\n",
    "while True:\n",
    "    sizeA = int(input(\"Enter size of Fuzzy Set A : \"))\n",
    "    sizeB = int(input(\"Enter size of Fuzzy Set B : \"))\n",
    "    if sizeA != sizeB:\n",
    "        print(\"Cant perfom union and intersection of 2 fuzzy sets of different lengths\")\n",
    "        continue\n",
    "    else:\n",
    "        break\n",
    "        \n",
    "sizeC = int(input(\"Enter size of Fuzzy Set C : \"))\n",
    "\n",
    "for i in range(sizeA):\n",
    "    strA = \"x\"\n",
    "    strA = strA+str(i)\n",
    "    fuzzy_Set_A[strA] = round(random.uniform(0,1),2)\n",
    "    \n",
    "    strB = \"y\"\n",
    "    strB = strB+str(i)\n",
    "    fuzzy_Set_B[strB] = round(random.uniform(0,1),2)\n",
    "    \n",
    "for i in range(sizeC):\n",
    "    strC = \"z\"\n",
    "    strC = strC+str(i)\n",
    "    fuzzy_Set_C[strC] = round(random.uniform(0,1),2)\n",
    "fuzzy_Set_A, fuzzy_Set_B, fuzzy_Set_C"
   ]
  },
  {
   "cell_type": "code",
   "execution_count": 9,
   "metadata": {},
   "outputs": [
    {
     "name": "stdout",
     "output_type": "stream",
     "text": [
      "Union of fuzzy sets A and B is :\n",
      " {'y0': 1.0, 'x1': 0.4, 'x2': 0.51, 'y3': 0.85}\n"
     ]
    }
   ],
   "source": [
    "Union(fuzzy_Set_A, fuzzy_Set_B)"
   ]
  },
  {
   "cell_type": "code",
   "execution_count": 10,
   "metadata": {},
   "outputs": [
    {
     "name": "stdout",
     "output_type": "stream",
     "text": [
      "Intersection of fuzzy sets A and B is :\n",
      " {'x0': 0.24, 'y1': 0.04, 'y2': 0.46, 'x3': 0.3}\n"
     ]
    }
   ],
   "source": [
    "Intersection(fuzzy_Set_A, fuzzy_Set_B)"
   ]
  },
  {
   "cell_type": "code",
   "execution_count": 11,
   "metadata": {},
   "outputs": [
    {
     "name": "stdout",
     "output_type": "stream",
     "text": [
      "Compliment of fuzzy set A is :\n",
      " {'x0': 0.76, 'x1': 0.6, 'x2': 0.49, 'x3': 0.7}\n",
      "\n",
      "\n",
      "Compliment of fuzzy set B is :\n",
      " {'y0': 0.0, 'y1': 0.96, 'y2': 0.54, 'y3': 0.15}\n"
     ]
    }
   ],
   "source": [
    "Compliment(fuzzy_Set_A, fuzzy_Set_B)"
   ]
  },
  {
   "cell_type": "code",
   "execution_count": 12,
   "metadata": {},
   "outputs": [
    {
     "name": "stdout",
     "output_type": "stream",
     "text": [
      "Difference of fuzzy sets A and B is :\n",
      " {'y0': 0.0, 'x1': 0.4, 'x2': 0.51, 'y3': 0.15}\n",
      "Difference of fuzzy sets B and A is :\n",
      " {'x0': 0.76, 'y1': 0.04, 'y2': 0.46, 'x3': 0.7}\n"
     ]
    }
   ],
   "source": [
    "Difference(fuzzy_Set_A, fuzzy_Set_B)"
   ]
  },
  {
   "cell_type": "code",
   "execution_count": 13,
   "metadata": {},
   "outputs": [
    {
     "name": "stdout",
     "output_type": "stream",
     "text": [
      "Relation R ( A x B) is : \n",
      " [[0.24 0.04 0.24 0.24]\n",
      " [0.4  0.04 0.4  0.4 ]\n",
      " [0.51 0.04 0.46 0.51]\n",
      " [0.3  0.04 0.3  0.3 ]]\n",
      "Relation S ( B x C) is : \n",
      " [[0.39 0.39 0.36 0.71]\n",
      " [0.04 0.04 0.04 0.04]\n",
      " [0.39 0.39 0.36 0.46]\n",
      " [0.39 0.39 0.36 0.71]]\n"
     ]
    }
   ],
   "source": [
    "R,S = cartesianProduct(fuzzy_Set_A, fuzzy_Set_B, fuzzy_Set_C)"
   ]
  },
  {
   "cell_type": "code",
   "execution_count": 14,
   "metadata": {},
   "outputs": [
    {
     "name": "stdout",
     "output_type": "stream",
     "text": [
      "Max-min composition ROS is :\n",
      " [[0.24 0.24 0.24 0.24]\n",
      " [0.39 0.39 0.36 0.4 ]\n",
      " [0.39 0.39 0.36 0.51]\n",
      " [0.3  0.3  0.3  0.3 ]]\n"
     ]
    }
   ],
   "source": [
    "max_min_composition(sizeA, sizeB, sizeC, R, S)"
   ]
  },
  {
   "cell_type": "code",
   "execution_count": null,
   "metadata": {},
   "outputs": [],
   "source": []
  }
 ],
 "metadata": {
  "kernelspec": {
   "display_name": "Python 3",
   "language": "python",
   "name": "python3"
  },
  "language_info": {
   "codemirror_mode": {
    "name": "ipython",
    "version": 3
   },
   "file_extension": ".py",
   "mimetype": "text/x-python",
   "name": "python",
   "nbconvert_exporter": "python",
   "pygments_lexer": "ipython3",
   "version": "3.8.5"
  }
 },
 "nbformat": 4,
 "nbformat_minor": 4
}
